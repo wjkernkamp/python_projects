{
  "nbformat": 4,
  "nbformat_minor": 0,
  "metadata": {
    "colab": {
      "name": "API_practice",
      "provenance": [],
      "authorship_tag": "ABX9TyPBylUzroDgk3zxdTs+rAeD"
    },
    "kernelspec": {
      "name": "python3",
      "display_name": "Python 3"
    },
    "language_info": {
      "name": "python"
    }
  },
  "cells": [
    {
      "cell_type": "markdown",
      "source": [
        "#Use an API to Retrieve Weather Data and Store the Data in a Dataframe\n",
        "\n",
        "###First import the necessary libraries\n",
        "#####I used pandas for the dataframe and seaborn to create a quick visualization of the dataframe"
      ],
      "metadata": {
        "id": "sOVsJsSNd0lU"
      }
    },
    {
      "cell_type": "code",
      "execution_count": null,
      "metadata": {
        "id": "iBL-qy4vUZt8",
        "colab": {
          "base_uri": "https://localhost:8080/"
        },
        "outputId": "3956a78a-f95a-4d1c-b07a-b4ecce1d7b12"
      },
      "outputs": [
        {
          "output_type": "stream",
          "name": "stdout",
          "text": [
            "Setup Complete\n"
          ]
        }
      ],
      "source": [
        "#import libraries\n",
        "import requests\n",
        "import pandas as pd\n",
        "from datetime import datetime\n",
        "pd.plotting.register_matplotlib_converters()\n",
        "import matplotlib.pyplot as plt\n",
        "%matplotlib inline\n",
        "import seaborn as sns\n",
        "print(\"Setup Complete\")"
      ]
    },
    {
      "cell_type": "markdown",
      "source": [
        "###Create the dataframe and store the API Key\n",
        "#####(I have hidden my API Key for personal security.)"
      ],
      "metadata": {
        "id": "MPbQGaAFeHhV"
      }
    },
    {
      "cell_type": "code",
      "source": [
        "#Keys\n",
        "API_KEY = '*****************************'"
      ],
      "metadata": {
        "id": "TosJmMDhUxt9"
      },
      "execution_count": null,
      "outputs": []
    },
    {
      "cell_type": "code",
      "source": [
        "#Create the dataframe for data to be stored in\n",
        "weather_data_hr = pd.DataFrame(columns=[\"Date\",\"Hour\",\"Weather_description\",\"Temp(F)\",\"Feels_like(F)\",\"Prob_of_Precip\",\"Humidity(%)\",\"Wind_speed(mph)\"])"
      ],
      "metadata": {
        "id": "sqe9JRUUVmaG"
      },
      "execution_count": null,
      "outputs": []
    },
    {
      "cell_type": "markdown",
      "source": [
        "###Make the API call and return a Json object\n",
        "#####The lat and lon in the API call are for the town I live in, Arcata, CA!"
      ],
      "metadata": {
        "id": "8DydQxsogn0J"
      }
    },
    {
      "cell_type": "code",
      "source": [
        "#make API call\n",
        "#return a json\n",
        "url = \"http://api.openweathermap.org/data/2.5/onecall?lat=40.8742&lon=-124.0765&appid=\"+API_KEY+\"&units=imperial\"\n",
        "response = requests.get(url).json()"
      ],
      "metadata": {
        "id": "w73o5Od7VOLQ"
      },
      "execution_count": null,
      "outputs": []
    },
    {
      "cell_type": "markdown",
      "source": [
        "#####This is a small portion of the json object that gets returned. In this case it is the first set of hourly data from the API. This API allows access to 48 hours of data."
      ],
      "metadata": {
        "id": "WPuIQXzpiYBB"
      }
    },
    {
      "cell_type": "code",
      "source": [
        "response['hourly'][0]"
      ],
      "metadata": {
        "colab": {
          "base_uri": "https://localhost:8080/"
        },
        "id": "fK-f44yiiO7y",
        "outputId": "6894f327-670b-45a5-e2e6-0c6ccaf63e5f"
      },
      "execution_count": null,
      "outputs": [
        {
          "output_type": "execute_result",
          "data": {
            "text/plain": [
              "{'clouds': 0,\n",
              " 'dew_point': 48.63,\n",
              " 'dt': 1643324400,\n",
              " 'feels_like': 57.99,\n",
              " 'humidity': 68,\n",
              " 'pop': 0,\n",
              " 'pressure': 1022,\n",
              " 'temp': 59.18,\n",
              " 'uvi': 0.9,\n",
              " 'visibility': 10000,\n",
              " 'weather': [{'description': 'clear sky',\n",
              "   'icon': '01d',\n",
              "   'id': 800,\n",
              "   'main': 'Clear'}],\n",
              " 'wind_deg': 314,\n",
              " 'wind_gust': 2.73,\n",
              " 'wind_speed': 2.82}"
            ]
          },
          "metadata": {},
          "execution_count": 31
        }
      ]
    },
    {
      "cell_type": "markdown",
      "source": [
        "###Create a For Loop\n",
        "#####I create a for loop that goes through the response and extracts the variables that we want in our dataframe. Then the data is added to the dataframe."
      ],
      "metadata": {
        "id": "vBFNmUv0j14j"
      }
    },
    {
      "cell_type": "code",
      "source": [
        "for hour in response['hourly']:\n",
        "  weather_desc = hour['weather'][0]['description']\n",
        "  temp = hour['temp']\n",
        "  fl = hour['feels_like']\n",
        "  pop = hour['pop']\n",
        "  humidity = hour['humidity']\n",
        "  wind_speed = hour['wind_speed']\n",
        "\n",
        "\n",
        "  #make unix dt into formatted dt\n",
        "  unix_dt = int(hour['dt'])\n",
        "  dt = datetime.utcfromtimestamp(unix_dt).strftime('%Y-%m-%d %H:%M:%S')\n",
        "\n",
        "  #split dt into date and hour\n",
        "  date = str(dt).split(\" \")[0]\n",
        "  hour = str(dt).split(\" \")[1]\n",
        "\n",
        "  #save to pandas dataframe\n",
        "  weather_data_hr = weather_data_hr.append({'Date':date, 'Hour':hour,'Weather_description': weather_desc,'Temp(F)':temp,'Feels_like(F)':fl,'Prob_of_Precip':pop,'Humidity(%)':humidity,'Wind_speed(mph)':wind_speed}, ignore_index=True)"
      ],
      "metadata": {
        "id": "rS8QWXmDcPb9"
      },
      "execution_count": null,
      "outputs": []
    },
    {
      "cell_type": "markdown",
      "source": [
        "####Display the first 5 rows of the dataframe to make sure it functions properly"
      ],
      "metadata": {
        "id": "0a71SQg9kPoN"
      }
    },
    {
      "cell_type": "code",
      "source": [
        "weather_data_hr.head()"
      ],
      "metadata": {
        "id": "WknPtdYYZdz9",
        "outputId": "bae58a5d-4b62-4151-9659-b7786dbc8ba6",
        "colab": {
          "base_uri": "https://localhost:8080/",
          "height": 206
        }
      },
      "execution_count": null,
      "outputs": [
        {
          "output_type": "execute_result",
          "data": {
            "text/html": [
              "\n",
              "  <div id=\"df-e9ddff49-639b-4810-bc4a-cf6d2baa3ba4\">\n",
              "    <div class=\"colab-df-container\">\n",
              "      <div>\n",
              "<style scoped>\n",
              "    .dataframe tbody tr th:only-of-type {\n",
              "        vertical-align: middle;\n",
              "    }\n",
              "\n",
              "    .dataframe tbody tr th {\n",
              "        vertical-align: top;\n",
              "    }\n",
              "\n",
              "    .dataframe thead th {\n",
              "        text-align: right;\n",
              "    }\n",
              "</style>\n",
              "<table border=\"1\" class=\"dataframe\">\n",
              "  <thead>\n",
              "    <tr style=\"text-align: right;\">\n",
              "      <th></th>\n",
              "      <th>Date</th>\n",
              "      <th>Hour</th>\n",
              "      <th>Weather_description</th>\n",
              "      <th>Temp(F)</th>\n",
              "      <th>Feels_like(F)</th>\n",
              "      <th>Prob_of_Precip</th>\n",
              "      <th>Humidity(%)</th>\n",
              "      <th>Wind_speed(mph)</th>\n",
              "    </tr>\n",
              "  </thead>\n",
              "  <tbody>\n",
              "    <tr>\n",
              "      <th>0</th>\n",
              "      <td>2022-01-27</td>\n",
              "      <td>23:00:00</td>\n",
              "      <td>clear sky</td>\n",
              "      <td>59.18</td>\n",
              "      <td>57.99</td>\n",
              "      <td>0</td>\n",
              "      <td>68</td>\n",
              "      <td>2.82</td>\n",
              "    </tr>\n",
              "    <tr>\n",
              "      <th>1</th>\n",
              "      <td>2022-01-28</td>\n",
              "      <td>00:00:00</td>\n",
              "      <td>clear sky</td>\n",
              "      <td>58.42</td>\n",
              "      <td>57.02</td>\n",
              "      <td>0</td>\n",
              "      <td>65</td>\n",
              "      <td>2.82</td>\n",
              "    </tr>\n",
              "    <tr>\n",
              "      <th>2</th>\n",
              "      <td>2022-01-28</td>\n",
              "      <td>01:00:00</td>\n",
              "      <td>clear sky</td>\n",
              "      <td>55.89</td>\n",
              "      <td>54.32</td>\n",
              "      <td>0</td>\n",
              "      <td>67</td>\n",
              "      <td>2.75</td>\n",
              "    </tr>\n",
              "    <tr>\n",
              "      <th>3</th>\n",
              "      <td>2022-01-28</td>\n",
              "      <td>02:00:00</td>\n",
              "      <td>clear sky</td>\n",
              "      <td>52.83</td>\n",
              "      <td>51.04</td>\n",
              "      <td>0</td>\n",
              "      <td>69</td>\n",
              "      <td>2.95</td>\n",
              "    </tr>\n",
              "    <tr>\n",
              "      <th>4</th>\n",
              "      <td>2022-01-28</td>\n",
              "      <td>03:00:00</td>\n",
              "      <td>clear sky</td>\n",
              "      <td>50.38</td>\n",
              "      <td>48.40</td>\n",
              "      <td>0</td>\n",
              "      <td>70</td>\n",
              "      <td>3.67</td>\n",
              "    </tr>\n",
              "  </tbody>\n",
              "</table>\n",
              "</div>\n",
              "      <button class=\"colab-df-convert\" onclick=\"convertToInteractive('df-e9ddff49-639b-4810-bc4a-cf6d2baa3ba4')\"\n",
              "              title=\"Convert this dataframe to an interactive table.\"\n",
              "              style=\"display:none;\">\n",
              "        \n",
              "  <svg xmlns=\"http://www.w3.org/2000/svg\" height=\"24px\"viewBox=\"0 0 24 24\"\n",
              "       width=\"24px\">\n",
              "    <path d=\"M0 0h24v24H0V0z\" fill=\"none\"/>\n",
              "    <path d=\"M18.56 5.44l.94 2.06.94-2.06 2.06-.94-2.06-.94-.94-2.06-.94 2.06-2.06.94zm-11 1L8.5 8.5l.94-2.06 2.06-.94-2.06-.94L8.5 2.5l-.94 2.06-2.06.94zm10 10l.94 2.06.94-2.06 2.06-.94-2.06-.94-.94-2.06-.94 2.06-2.06.94z\"/><path d=\"M17.41 7.96l-1.37-1.37c-.4-.4-.92-.59-1.43-.59-.52 0-1.04.2-1.43.59L10.3 9.45l-7.72 7.72c-.78.78-.78 2.05 0 2.83L4 21.41c.39.39.9.59 1.41.59.51 0 1.02-.2 1.41-.59l7.78-7.78 2.81-2.81c.8-.78.8-2.07 0-2.86zM5.41 20L4 18.59l7.72-7.72 1.47 1.35L5.41 20z\"/>\n",
              "  </svg>\n",
              "      </button>\n",
              "      \n",
              "  <style>\n",
              "    .colab-df-container {\n",
              "      display:flex;\n",
              "      flex-wrap:wrap;\n",
              "      gap: 12px;\n",
              "    }\n",
              "\n",
              "    .colab-df-convert {\n",
              "      background-color: #E8F0FE;\n",
              "      border: none;\n",
              "      border-radius: 50%;\n",
              "      cursor: pointer;\n",
              "      display: none;\n",
              "      fill: #1967D2;\n",
              "      height: 32px;\n",
              "      padding: 0 0 0 0;\n",
              "      width: 32px;\n",
              "    }\n",
              "\n",
              "    .colab-df-convert:hover {\n",
              "      background-color: #E2EBFA;\n",
              "      box-shadow: 0px 1px 2px rgba(60, 64, 67, 0.3), 0px 1px 3px 1px rgba(60, 64, 67, 0.15);\n",
              "      fill: #174EA6;\n",
              "    }\n",
              "\n",
              "    [theme=dark] .colab-df-convert {\n",
              "      background-color: #3B4455;\n",
              "      fill: #D2E3FC;\n",
              "    }\n",
              "\n",
              "    [theme=dark] .colab-df-convert:hover {\n",
              "      background-color: #434B5C;\n",
              "      box-shadow: 0px 1px 3px 1px rgba(0, 0, 0, 0.15);\n",
              "      filter: drop-shadow(0px 1px 2px rgba(0, 0, 0, 0.3));\n",
              "      fill: #FFFFFF;\n",
              "    }\n",
              "  </style>\n",
              "\n",
              "      <script>\n",
              "        const buttonEl =\n",
              "          document.querySelector('#df-e9ddff49-639b-4810-bc4a-cf6d2baa3ba4 button.colab-df-convert');\n",
              "        buttonEl.style.display =\n",
              "          google.colab.kernel.accessAllowed ? 'block' : 'none';\n",
              "\n",
              "        async function convertToInteractive(key) {\n",
              "          const element = document.querySelector('#df-e9ddff49-639b-4810-bc4a-cf6d2baa3ba4');\n",
              "          const dataTable =\n",
              "            await google.colab.kernel.invokeFunction('convertToInteractive',\n",
              "                                                     [key], {});\n",
              "          if (!dataTable) return;\n",
              "\n",
              "          const docLinkHtml = 'Like what you see? Visit the ' +\n",
              "            '<a target=\"_blank\" href=https://colab.research.google.com/notebooks/data_table.ipynb>data table notebook</a>'\n",
              "            + ' to learn more about interactive tables.';\n",
              "          element.innerHTML = '';\n",
              "          dataTable['output_type'] = 'display_data';\n",
              "          await google.colab.output.renderOutput(dataTable, element);\n",
              "          const docLink = document.createElement('div');\n",
              "          docLink.innerHTML = docLinkHtml;\n",
              "          element.appendChild(docLink);\n",
              "        }\n",
              "      </script>\n",
              "    </div>\n",
              "  </div>\n",
              "  "
            ],
            "text/plain": [
              "         Date      Hour  ... Humidity(%)  Wind_speed(mph)\n",
              "0  2022-01-27  23:00:00  ...          68             2.82\n",
              "1  2022-01-28  00:00:00  ...          65             2.82\n",
              "2  2022-01-28  01:00:00  ...          67             2.75\n",
              "3  2022-01-28  02:00:00  ...          69             2.95\n",
              "4  2022-01-28  03:00:00  ...          70             3.67\n",
              "\n",
              "[5 rows x 8 columns]"
            ]
          },
          "metadata": {},
          "execution_count": 33
        }
      ]
    },
    {
      "cell_type": "markdown",
      "source": [
        "####Create a simple line plot to show how to weather will change over the next 48 hours"
      ],
      "metadata": {
        "id": "nQPKcjTlkZb_"
      }
    },
    {
      "cell_type": "code",
      "source": [
        "plt.figure(figsize=(14,6))\n",
        "plt.title(\"Hourly Weather Conditions\")\n",
        "sns.lineplot(data = weather_data_hr)"
      ],
      "metadata": {
        "colab": {
          "base_uri": "https://localhost:8080/",
          "height": 407
        },
        "id": "0NaD4XWyWHHd",
        "outputId": "41488f09-539f-4786-fc0d-6aabae585914"
      },
      "execution_count": null,
      "outputs": [
        {
          "output_type": "execute_result",
          "data": {
            "text/plain": [
              "<matplotlib.axes._subplots.AxesSubplot at 0x7f3f61575d50>"
            ]
          },
          "metadata": {},
          "execution_count": 34
        },
        {
          "output_type": "display_data",
          "data": {
            "image/png": "[encoded data removed]",
            "text/plain": [
              "<Figure size 1008x432 with 1 Axes>"
            ]
          },
          "metadata": {
            "needs_background": "light"
          }
        }
      ]
    }
  ]
}